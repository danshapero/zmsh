{
 "cells": [
  {
   "cell_type": "markdown",
   "metadata": {},
   "source": [
    "Here we'll show some of the inner workings of the algorithm to compute convex hulls.\n",
    "First, we'll generate a random set of points as our input data using the random number generation routines in numpy.\n",
    "To make sure that this demo gives the same results every time, we'll explicitly seed the RNG with the number 1729, which as we all know is [a rather dull one](https://en.wikipedia.org/wiki/1729_(number))."
   ]
  },
  {
   "cell_type": "code",
   "execution_count": null,
   "metadata": {},
   "outputs": [],
   "source": [
    "import numpy as np\n",
    "from scipy.stats.qmc import PoissonDisk\n",
    "rng = np.random.default_rng(seed=1729)\n",
    "num_points = 40\n",
    "poisson_disk = PoissonDisk(2, radius=0.05, seed=rng)\n",
    "X = poisson_disk.random(num_points)"
   ]
  },
  {
   "cell_type": "code",
   "execution_count": null,
   "metadata": {},
   "outputs": [],
   "source": [
    "%matplotlib inline\n",
    "import matplotlib.pyplot as plt\n",
    "fig, axes = plt.subplots()\n",
    "axes.set_aspect(\"equal\")\n",
    "axes.scatter(X[:, 0], X[:, 1]);"
   ]
  },
  {
   "cell_type": "markdown",
   "metadata": {},
   "source": [
    "To start calculating the convex hull, we'll create a state machine object which we'll call `hull_machine`.\n",
    "This state machine stores two pieces of data:\n",
    "1. the current value of the hull geometry in the member `geometry`\n",
    "2. the *visibility graph* in the member `visible`.\n",
    "\n",
    "The visibility graph is a weighted bipartite graph between the vertices and the faces of the hull.\n",
    "The weighting factor between a vertex $v$ and an edge $e$ is the signed area of the triangle formed by $v$ and $e$."
   ]
  },
  {
   "cell_type": "code",
   "execution_count": null,
   "metadata": {},
   "outputs": [],
   "source": [
    "import zmsh\n",
    "hull_machine = zmsh.convex_hull.ConvexHull(X)\n",
    "topology = hull_machine.topology"
   ]
  },
  {
   "cell_type": "markdown",
   "metadata": {},
   "source": [
    "The two methods of the hull machine that we care about are `step` and `is_done`.\n",
    "The `step` method will find whichever edge of the hull can see the greatest number of points, and then split it along whichever visible point is most extreme.\n",
    "Any points inside the triangle formed by the old edge and the two new edges will be filtered out as candidate hull points.\n",
    "\n",
    "To see how this works, we'll step through the hull machine until it's complete.\n",
    "At every iteration, we'll copy the current value of the topology and the visibility graph."
   ]
  },
  {
   "cell_type": "code",
   "execution_count": null,
   "metadata": {},
   "outputs": [],
   "source": [
    "from copy import deepcopy\n",
    "topologies = [deepcopy(hull_machine.topology)]\n",
    "visible_cells_ids = []\n",
    "\n",
    "while not hull_machine.is_done():\n",
    "    visible_cells_ids.append(hull_machine.visibility.get_next_point_and_cells()[1])\n",
    "    hull_machine.step()\n",
    "    topologies.append(deepcopy(hull_machine.topology))\n",
    "\n",
    "visible_cells_ids.append([])"
   ]
  },
  {
   "cell_type": "markdown",
   "metadata": {},
   "source": [
    "Now we'll visualize the state of the algorithm at every step.\n",
    "The orange edge is the next one that we'll split."
   ]
  },
  {
   "cell_type": "code",
   "execution_count": null,
   "metadata": {},
   "outputs": [],
   "source": [
    "%%capture\n",
    "\n",
    "from matplotlib.animation import FuncAnimation\n",
    "from matplotlib.collections import LineCollection\n",
    "\n",
    "fig, ax = plt.subplots()\n",
    "ax.set_aspect(\"equal\")\n",
    "ax.axis(\"off\")\n",
    "\n",
    "def animate(frame):\n",
    "    topology, cell_ids = frame\n",
    "    \n",
    "    ax.clear()\n",
    "    segments = []\n",
    "    colors = []\n",
    "    for index, edge in enumerate(topology):\n",
    "        if edge.compressed().size != 0:\n",
    "            segments.append(X[edge, :])\n",
    "            color = \"tab:orange\" if index in cell_ids else \"tab:blue\"\n",
    "            colors.append(color)\n",
    "    ax.add_collection(LineCollection(segments, colors=colors))\n",
    "    ax.scatter(*X.T)\n",
    "\n",
    "frames = zip(topologies, visible_cells_ids)\n",
    "animation = FuncAnimation(fig, animate, frames, interval=2e3)"
   ]
  },
  {
   "cell_type": "code",
   "execution_count": null,
   "metadata": {},
   "outputs": [],
   "source": [
    "from IPython.display import HTML\n",
    "HTML(animation.to_jshtml())"
   ]
  },
  {
   "cell_type": "markdown",
   "metadata": {},
   "source": [
    "We used a random point set for demonstrative purposes here.\n",
    "Randomized testing is an extraordinarily useful tool, but computational geometry is full of really dreadful edge cases.\n",
    "For example, what happens if there are three collinear points on the convex hull of a point set?\n",
    "The middle point isn't necessary to describe the hull; should we include it or not?\n",
    "The algorithm we used here doesn't include these extraneous collinear points.\n",
    "But generating three collinear points at random using 64-bit floating point arithmetic is so unlikely that it's practically impossible.\n",
    "So a naive randomized test suite would be unlikely to find this edge case and the test suite for zmsh explicitly checks for it."
   ]
  }
 ],
 "metadata": {
  "kernelspec": {
   "display_name": "topomesh",
   "language": "python",
   "name": "topomesh"
  },
  "language_info": {
   "codemirror_mode": {
    "name": "ipython",
    "version": 3
   },
   "file_extension": ".py",
   "mimetype": "text/x-python",
   "name": "python",
   "nbconvert_exporter": "python",
   "pygments_lexer": "ipython3",
   "version": "3.11.9"
  }
 },
 "nbformat": 4,
 "nbformat_minor": 4
}
