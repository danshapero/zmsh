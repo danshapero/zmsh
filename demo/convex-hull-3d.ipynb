{
 "cells": [
  {
   "cell_type": "markdown",
   "metadata": {},
   "source": [
    "Here we'll show a bit about how the convex hull algorithm works for 3D point sets.\n",
    "As we'll see shortly, computing convex hulls is much more difficult in higher dimensions than in 2D because visibility gets more interesting."
   ]
  },
  {
   "cell_type": "code",
   "execution_count": null,
   "metadata": {},
   "outputs": [],
   "source": [
    "import numpy as np\n",
    "from scipy.stats.qmc import PoissonDisk\n",
    "rng = np.random.default_rng(seed=1729)\n",
    "num_points = 40\n",
    "poisson_disk = PoissonDisk(3, radius=0.05, seed=rng)\n",
    "X = poisson_disk.random(num_points)"
   ]
  },
  {
   "cell_type": "code",
   "execution_count": null,
   "metadata": {},
   "outputs": [],
   "source": [
    "import matplotlib.pyplot as plt\n",
    "from mpl_toolkits import mplot3d\n",
    "fig, ax = plt.subplots(subplot_kw={\"projection\": \"3d\"})\n",
    "ax.scatter(*X.T);"
   ]
  },
  {
   "cell_type": "code",
   "execution_count": null,
   "metadata": {},
   "outputs": [],
   "source": [
    "import zmsh\n",
    "hull_machine = zmsh.convex_hull.ConvexHull(X)"
   ]
  },
  {
   "cell_type": "code",
   "execution_count": null,
   "metadata": {},
   "outputs": [],
   "source": [
    "from copy import deepcopy\n",
    "topologies = [deepcopy(hull_machine.topology)]\n",
    "visible_cells_ids = []\n",
    "\n",
    "while not hull_machine.is_done():\n",
    "    vertex_id, cell_ids = hull_machine.visibility.get_next_point_and_cells()\n",
    "    visible_cells_ids.append(cell_ids)\n",
    "    hull_machine.step()\n",
    "    topologies.append(deepcopy(hull_machine.topology))\n",
    "    \n",
    "visible_cells_ids.append([])"
   ]
  },
  {
   "cell_type": "code",
   "execution_count": null,
   "metadata": {},
   "outputs": [],
   "source": [
    "topologies[-1]"
   ]
  },
  {
   "cell_type": "markdown",
   "metadata": {},
   "source": [
    "Now we can visualize the progress of the algorithm."
   ]
  },
  {
   "cell_type": "code",
   "execution_count": null,
   "metadata": {},
   "outputs": [],
   "source": [
    "%%capture\n",
    "\n",
    "from matplotlib.animation import FuncAnimation\n",
    "from matplotlib.colors import to_rgba\n",
    "from mpl_toolkits.mplot3d.art3d import Poly3DCollection\n",
    "\n",
    "fig, ax = plt.subplots(subplot_kw={\"projection\": \"3d\"})\n",
    "\n",
    "def animate(frame):\n",
    "    cell_ids, topology = frame\n",
    "    ax.clear()\n",
    "    ax.view_init(azim=40)\n",
    "    ax.scatter(*X.T, color=\"black\")\n",
    "    triangles_colors = [\n",
    "        (s, \"tab:orange\" if index in cell_ids else \"tab:blue\")\n",
    "        for index, s in enumerate(topology)\n",
    "        if s.compressed().size != 0\n",
    "    ]\n",
    "    triangles, color_names = zip(*triangles_colors)\n",
    "    colors = [to_rgba(c) for c in color_names]\n",
    "    collection = Poly3DCollection(\n",
    "        X[triangles, :], facecolors=colors, edgecolors=\"black\", alpha=0.5\n",
    "    )\n",
    "    ax.add_collection(collection)\n",
    "\n",
    "frames = zip(visible_cells_ids, topologies)\n",
    "animation = FuncAnimation(fig, animate, frames, interval=1e3)"
   ]
  },
  {
   "cell_type": "code",
   "execution_count": null,
   "metadata": {},
   "outputs": [],
   "source": [
    "from IPython.display import HTML\n",
    "HTML(animation.to_jshtml())"
   ]
  },
  {
   "cell_type": "markdown",
   "metadata": {},
   "source": [
    "Computing convex hulls in dimension 3 or higher is much more difficult in the 2D case because now multiple hull faces can be visible to the same extreme point."
   ]
  }
 ],
 "metadata": {
  "kernelspec": {
   "display_name": "topomesh",
   "language": "python",
   "name": "topomesh"
  },
  "language_info": {
   "codemirror_mode": {
    "name": "ipython",
    "version": 3
   },
   "file_extension": ".py",
   "mimetype": "text/x-python",
   "name": "python",
   "nbconvert_exporter": "python",
   "pygments_lexer": "ipython3",
   "version": "3.11.9"
  }
 },
 "nbformat": 4,
 "nbformat_minor": 4
}
