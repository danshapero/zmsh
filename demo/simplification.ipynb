{
 "cells": [
  {
   "cell_type": "code",
   "execution_count": null,
   "id": "ab42d932-a5a1-46c5-9f4b-ce2e309761e5",
   "metadata": {},
   "outputs": [],
   "source": [
    "%matplotlib ipympl\n",
    "import numpy as np\n",
    "import matplotlib.pyplot as plt\n",
    "from mpl_toolkits.mplot3d import Axes3D\n",
    "from plyfile import PlyData\n",
    "import zmsh"
   ]
  },
  {
   "cell_type": "markdown",
   "id": "7abcbb6d-e82a-4658-bd8e-4e8c5d6be479",
   "metadata": {},
   "source": [
    "Download the Stanford bunny image."
   ]
  },
  {
   "cell_type": "code",
   "execution_count": null,
   "id": "48c2a0fe-431f-4c8e-a0ad-3c4830c5e880",
   "metadata": {},
   "outputs": [],
   "source": [
    "!wget --no-clobber http://graphics.stanford.edu/pub/3Dscanrep/bunny.tar.gz\n",
    "!tar -zxvf bunny.tar.gz --wildcards --no-anchored '*bun_zipper_res2.ply'"
   ]
  },
  {
   "cell_type": "markdown",
   "id": "9c30d229-f61c-4ce8-bb2f-487b21a57491",
   "metadata": {},
   "source": [
    "Load in the model using the `plyfile` package and extract the points and triangles."
   ]
  },
  {
   "cell_type": "code",
   "execution_count": null,
   "id": "8617dba1-aa69-46ff-b112-7b649d8ee902",
   "metadata": {},
   "outputs": [],
   "source": [
    "filename = \"bunny/reconstruction/bun_zipper_res2.ply\"\n",
    "with open(filename, \"r\") as bunny_file:\n",
    "    model = PlyData.read(bunny_file)\n",
    "\n",
    "vertices = model.elements[0]\n",
    "x, y, z = vertices[\"x\"], vertices[\"y\"], vertices[\"z\"]\n",
    "points = np.column_stack((x, y, z))\n",
    "triangles = np.array([tuple(elt) for elt in model.elements[1].data[\"vertex_indices\"]])"
   ]
  },
  {
   "cell_type": "code",
   "execution_count": null,
   "id": "a89b3c09-e538-46ec-adf0-00bc5b0f65fc",
   "metadata": {},
   "outputs": [],
   "source": [
    "fig, ax = plt.subplots(subplot_kw={\"projection\": \"3d\"})\n",
    "ax.view_init(elev=120)\n",
    "ax.plot_trisurf(x, y, z, triangles=triangles);"
   ]
  },
  {
   "cell_type": "markdown",
   "id": "92a22bce-27f7-4396-a721-0768a6379394",
   "metadata": {},
   "source": [
    "Make a mapping from vertices to triangles."
   ]
  },
  {
   "cell_type": "code",
   "execution_count": null,
   "id": "fbd901c3-d0b5-49d4-80d0-a02090f869d7",
   "metadata": {},
   "outputs": [],
   "source": [
    "cotriangles = [[] for index in range(len(points))]\n",
    "for index, triangle in enumerate(triangles):\n",
    "    for vertex in triangle:\n",
    "        cotriangles[vertex].append(index)"
   ]
  },
  {
   "cell_type": "markdown",
   "id": "7eb35dd3-d30e-4156-b69c-edb8cbdb7ada",
   "metadata": {},
   "source": [
    "We'll pick out the first two vertices of triangle 0 to focus on."
   ]
  },
  {
   "cell_type": "code",
   "execution_count": null,
   "id": "1cf603d6-1b36-4de2-9429-d778c4cda395",
   "metadata": {},
   "outputs": [],
   "source": [
    "triangles[0]"
   ]
  },
  {
   "cell_type": "code",
   "execution_count": null,
   "id": "f4b441a6-8b13-48cc-be04-07872cda1ff1",
   "metadata": {},
   "outputs": [],
   "source": [
    "vertex0, vertex1 = triangles[0][:2]\n",
    "vertex0, vertex1"
   ]
  },
  {
   "cell_type": "code",
   "execution_count": null,
   "id": "5ef63b08-a646-4efc-879c-20c18fc24b0b",
   "metadata": {},
   "outputs": [],
   "source": [
    "triangle_ids0 = cotriangles[vertex0]\n",
    "triangle_ids1 = cotriangles[vertex1]\n",
    "triangle_ids = list(set(triangle_ids0).union(triangle_ids1))\n",
    "patch = triangles[triangle_ids]\n",
    "patch"
   ]
  },
  {
   "cell_type": "code",
   "execution_count": null,
   "id": "13821956-e72d-496d-9d0d-2fcfc8eb5f2a",
   "metadata": {},
   "outputs": [],
   "source": [
    "vertex_ids = np.unique(patch.flatten())\n",
    "vertex_ids"
   ]
  },
  {
   "cell_type": "markdown",
   "id": "3e5a0d86-f5bf-4d82-ab09-14427ba4b9b1",
   "metadata": {},
   "source": [
    "To simplify things, we'll renumber the vertices on this patch."
   ]
  },
  {
   "cell_type": "code",
   "execution_count": null,
   "id": "1a8d8024-8772-4f11-a587-00e844ffe7f2",
   "metadata": {},
   "outputs": [],
   "source": [
    "id_map = np.vectorize({idx: val for val, idx in enumerate(vertex_ids)}.get)"
   ]
  },
  {
   "cell_type": "code",
   "execution_count": null,
   "id": "ac1df793-570f-4817-ab92-224111f7330c",
   "metadata": {},
   "outputs": [],
   "source": [
    "patch = id_map(patch)\n",
    "vtx0 = id_map(vertex0)\n",
    "vtx1 = id_map(vertex1)"
   ]
  },
  {
   "cell_type": "code",
   "execution_count": null,
   "id": "50fe653e-0f5f-46d6-85e1-eb20c3bb8261",
   "metadata": {},
   "outputs": [],
   "source": [
    "fig, ax = plt.subplots(subplot_kw={\"projection\": \"3d\"})\n",
    "colors = [\"tab:green\" for index in range(len(vertex_ids))]\n",
    "colors[vtx0] = \"tab:orange\"\n",
    "colors[vtx1] = \"tab:orange\"\n",
    "ax.plot_trisurf(x[vertex_ids], y[vertex_ids], z[vertex_ids], triangles=patch)\n",
    "ax.scatter(x[vertex_ids], y[vertex_ids], z[vertex_ids], color=colors);"
   ]
  },
  {
   "cell_type": "markdown",
   "id": "e950ce37-00ed-43c4-9cf4-a0432605fa47",
   "metadata": {},
   "source": [
    "Now we'll convert this simplicial complex into its linear algebraic representation."
   ]
  },
  {
   "cell_type": "code",
   "execution_count": null,
   "id": "f22ef651-af3b-455c-8483-f410e07c6d10",
   "metadata": {},
   "outputs": [],
   "source": [
    "d_0, d_1, d_2 = zmsh.polytopal.from_simplicial(patch)"
   ]
  },
  {
   "cell_type": "markdown",
   "id": "87f91fc4-ed34-4c9b-96b0-fd61facb86ce",
   "metadata": {},
   "source": [
    "We'll first collapse the edge between vertex 0 and vertex 1.\n",
    "To do that, we can perform a row operation on the $d_1$ matrix.\n",
    "The operation is to add the rows corresponding to vertex 0 and vertex 1 together.\n",
    "We'll then zero out the row corresponding to vertex 1."
   ]
  },
  {
   "cell_type": "code",
   "execution_count": null,
   "id": "e451bdec-1d96-4558-aeb5-db06e7e0ddda",
   "metadata": {},
   "outputs": [],
   "source": [
    "P = np.eye(len(vertex_ids), dtype=np.int8)\n",
    "P[vtx0, [vtx0, vtx1]] = (+1, +1)\n",
    "P[vtx1, :] = 0\n",
    "P"
   ]
  },
  {
   "cell_type": "markdown",
   "id": "b3c894c1-0895-404b-8e8a-172429882dea",
   "metadata": {},
   "source": [
    "The code below shows the resulting matrix, which we'll call $e_1$.\n",
    "You might notice that, for example, columns 0 and 1 are identical.\n",
    "(So are columns 4 and 6 and columns 3 and 13.)\n",
    "From a geometric viewpoint, this means that we have two edges that start at the same vertex and end at the same vertex.\n",
    "This is undesirable.\n",
    "The new 2-cells are the same as the old for now."
   ]
  },
  {
   "cell_type": "code",
   "execution_count": null,
   "id": "bc0e2b8c-b2fe-466d-a90c-3c87c2f73139",
   "metadata": {},
   "outputs": [],
   "source": [
    "e_0 = d_0\n",
    "e_1 = P @ d_1\n",
    "e_2 = d_2\n",
    "print(e_1)"
   ]
  },
  {
   "cell_type": "markdown",
   "id": "2ca5ef8d-739d-4440-a4ea-17db3ff03725",
   "metadata": {},
   "source": [
    "We might also have columns that are not exact duplicates by scalar multiples of each other.\n",
    "For example, an edge that goes from vertex 0 to vertex 1, and another edge that goes from vertex 1 to vertex 0.\n",
    "We can clean things up by:\n",
    "1. replacing all 1-cells that are multiples of each other with a single representative\n",
    "2. for any 2-cell that was incident upon any of the degenerate 1-cells, replace it with a 2-cell that is incident upon the new representative 1-cell.\n",
    "\n",
    "The function below creates the matrices that we will multiply by $e_1$ and $e_2$ in order to merge these cells."
   ]
  },
  {
   "cell_type": "code",
   "execution_count": null,
   "id": "14b1458c-39c8-449a-bbc1-1323f6d0fc85",
   "metadata": {},
   "outputs": [],
   "source": [
    "A, B = zmsh.polytopal.make_reduction_matrices(e_1)"
   ]
  },
  {
   "cell_type": "markdown",
   "id": "35e83e9d-daa8-49dc-b7e3-134ef16af068",
   "metadata": {},
   "source": [
    "The matrix $A$ selects some of the columns of $e_1$."
   ]
  },
  {
   "cell_type": "code",
   "execution_count": null,
   "id": "b1696315-05a0-4658-a418-70c747853dc9",
   "metadata": {},
   "outputs": [],
   "source": [
    "print(A)"
   ]
  },
  {
   "cell_type": "markdown",
   "id": "2130b3cd-f322-4205-b9aa-f95cad2eabb6",
   "metadata": {},
   "source": [
    "Meanwhile the matrix $B$ does a row operation to collapse the incidence of any 2-cells to redundant edges down to the remaining non-redundant edges."
   ]
  },
  {
   "cell_type": "code",
   "execution_count": null,
   "id": "64c97f9e-b118-469e-bb3b-c3f105d7fbdc",
   "metadata": {},
   "outputs": [],
   "source": [
    "print(B)"
   ]
  },
  {
   "cell_type": "markdown",
   "id": "fec2c6b5-fd1c-43a5-aa99-877379a6edac",
   "metadata": {},
   "source": [
    "If we look at $e_1\\cdot A$, we can see that there are no columns left that are multiples of each other."
   ]
  },
  {
   "cell_type": "code",
   "execution_count": null,
   "id": "1088710f-4b44-49be-bf17-ac2c5df9b8ac",
   "metadata": {},
   "outputs": [],
   "source": [
    "f_1 = e_1 @ A\n",
    "print(f_1)"
   ]
  },
  {
   "cell_type": "markdown",
   "id": "1e546417-668c-4420-836b-7d3a640de149",
   "metadata": {},
   "source": [
    "And the columns of $B\\cdot e_2$ have their adjacencies to redundant columns summed together."
   ]
  },
  {
   "cell_type": "code",
   "execution_count": null,
   "id": "2f5b82f2-eb7e-4e36-bfbd-49e8005ba144",
   "metadata": {},
   "outputs": [],
   "source": [
    "print(B @ e_2)"
   ]
  },
  {
   "cell_type": "code",
   "execution_count": null,
   "id": "6a6f55e7-411d-4c84-9a16-a09a75d6de15",
   "metadata": {},
   "outputs": [],
   "source": [
    "empty_cell_ids = np.flatnonzero(np.count_nonzero(B @ e_2, axis=0) < 3)\n",
    "f_2 = np.delete(B @ e_2, empty_cell_ids, axis=1)\n",
    "print(f_2)"
   ]
  },
  {
   "cell_type": "markdown",
   "id": "71ba922a-096d-4108-b205-bec49df309d2",
   "metadata": {},
   "source": [
    "You'll also note that some 2-cells are now empty, which we expect."
   ]
  },
  {
   "cell_type": "code",
   "execution_count": null,
   "id": "cc4032ba-f62b-4c53-b6cb-0ba439ebd4cb",
   "metadata": {},
   "outputs": [],
   "source": [
    "ltriangles = zmsh.polytopal.to_simplicial([e_0, f_1, f_2])\n",
    "print(ltriangles)"
   ]
  },
  {
   "cell_type": "code",
   "execution_count": null,
   "id": "2a875059-817e-422b-ac3c-451c9caa151d",
   "metadata": {},
   "outputs": [],
   "source": [
    "vertex_ids[ltriangles]"
   ]
  }
 ],
 "metadata": {
  "kernelspec": {
   "display_name": "topomesh",
   "language": "python",
   "name": "topomesh"
  },
  "language_info": {
   "codemirror_mode": {
    "name": "ipython",
    "version": 3
   },
   "file_extension": ".py",
   "mimetype": "text/x-python",
   "name": "python",
   "nbconvert_exporter": "python",
   "pygments_lexer": "ipython3",
   "version": "3.11.9"
  }
 },
 "nbformat": 4,
 "nbformat_minor": 5
}
