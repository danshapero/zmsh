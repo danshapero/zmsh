{
 "cells": [
  {
   "cell_type": "markdown",
   "id": "d2f53310",
   "metadata": {},
   "source": [
    "Here we'll show how to compute Delaunay triangulations in 2D.\n",
    "Under the hood, computing the Delaunay triangulation of a 2D point set is equivalent to computing the 3D convex hull of those points lifted onto a paraboloid in 3-space.\n",
    "This means that if you understand how convex hulls work, you basically understand how Delaunay triangulations work -- all the moving parts are the same, down to the visibility graph.\n",
    "First, we'll generate some random input data."
   ]
  },
  {
   "cell_type": "code",
   "execution_count": null,
   "id": "961f0a95",
   "metadata": {},
   "outputs": [],
   "source": [
    "import numpy as np\n",
    "from scipy.stats.qmc import PoissonDisk\n",
    "rng = np.random.default_rng(seed=1729)\n",
    "num_points = 40\n",
    "poisson_disk = PoissonDisk(2, radius=0.05, seed=rng)\n",
    "X = poisson_disk.random(num_points)"
   ]
  },
  {
   "cell_type": "code",
   "execution_count": null,
   "id": "485820e4",
   "metadata": {},
   "outputs": [],
   "source": [
    "%matplotlib inline\n",
    "import matplotlib.pyplot as plt\n",
    "fig, ax = plt.subplots()\n",
    "ax.set_aspect(\"equal\")\n",
    "ax.scatter(*X.T);"
   ]
  },
  {
   "cell_type": "markdown",
   "id": "bc863ca5",
   "metadata": {},
   "source": [
    "The plot below shows what these points look like when lifted to a 3D paraboloid."
   ]
  },
  {
   "cell_type": "code",
   "execution_count": null,
   "id": "675880b3",
   "metadata": {},
   "outputs": [],
   "source": [
    "from mpl_toolkits import mplot3d\n",
    "W = np.sum(X**2, axis=1)\n",
    "\n",
    "fig, ax = plt.subplots(subplot_kw={\"projection\": \"3d\"})\n",
    "ax.scatter(*np.column_stack((X, W)).T);"
   ]
  },
  {
   "cell_type": "markdown",
   "id": "632d6212",
   "metadata": {},
   "source": [
    "Much like for convex hulls, we'll use a state machine object that we'll call `delaunay_machine` to keep track of the progress of the algorithm."
   ]
  },
  {
   "cell_type": "code",
   "execution_count": null,
   "id": "282842f3",
   "metadata": {},
   "outputs": [],
   "source": [
    "import zmsh\n",
    "delaunay_machine = zmsh.delaunay.Delaunay(X)"
   ]
  },
  {
   "cell_type": "code",
   "execution_count": null,
   "id": "0f974c60",
   "metadata": {},
   "outputs": [],
   "source": [
    "from copy import deepcopy\n",
    "topologies = [deepcopy(delaunay_machine.topology)]\n",
    "\n",
    "while not delaunay_machine.is_done():\n",
    "    delaunay_machine.step()\n",
    "    topologies.append(deepcopy(delaunay_machine.topology))"
   ]
  },
  {
   "cell_type": "markdown",
   "id": "bc9af4ed",
   "metadata": {},
   "source": [
    "There is only one extra step for Delaunay triangulations.\n",
    "If we repurpose an existing algorithm to compute the convex hull of the points lifted up to a parabola, we're going to get two \"sides\" -- a top and a bottom.\n",
    "We're only interested in the facets on the bottom of the parabola, so to get the desired output we need to filter out anything on top.\n",
    "The code below does the filtering for us."
   ]
  },
  {
   "cell_type": "code",
   "execution_count": null,
   "id": "49e3f281",
   "metadata": {},
   "outputs": [],
   "source": [
    "import predicates\n",
    "\n",
    "def filter_bottom_facets(topology):\n",
    "    dimension = topology.shape[1] - 1\n",
    "    cell_ids_to_remove = []\n",
    "    for cell_id, cell in enumerate(topology):\n",
    "        if cell.compressed().size != 0:\n",
    "            x = X[cell]\n",
    "            if predicates.volume(x.T) <= 0:\n",
    "                cell_ids_to_remove.append(cell_id)\n",
    "\n",
    "    return np.array(\n",
    "        [\n",
    "            row\n",
    "            for index, row in enumerate(topology)\n",
    "            if row.compressed().size != 0 and not (index in cell_ids_to_remove)\n",
    "        ]\n",
    "    )"
   ]
  },
  {
   "cell_type": "code",
   "execution_count": null,
   "id": "2843e08d-7252-4d6c-b4e2-8c8186b577a5",
   "metadata": {},
   "outputs": [],
   "source": [
    "ftopologies = [filter_bottom_facets(topo) for topo in topologies]"
   ]
  },
  {
   "cell_type": "markdown",
   "id": "d79146eb",
   "metadata": {},
   "source": [
    "Now we can see the progress of the algorithm at each step.\n",
    "Some of the steps are adding facets to the top of the hull of the paraboloid; we'll see those in the animation below as steps that don't appear to make any progress."
   ]
  },
  {
   "cell_type": "code",
   "execution_count": null,
   "id": "9174934e",
   "metadata": {},
   "outputs": [],
   "source": [
    "%%capture\n",
    "\n",
    "from matplotlib.animation import FuncAnimation\n",
    "\n",
    "fig, ax = plt.subplots()\n",
    "ax.set_aspect(\"equal\")\n",
    "ax.axis(\"off\")\n",
    "\n",
    "def animate(topology):\n",
    "    ax.clear()\n",
    "    ax.scatter(*X.T)\n",
    "    ax.triplot(*X.T, topology)\n",
    "\n",
    "animation = FuncAnimation(fig, animate, ftopologies, interval=1e3)"
   ]
  },
  {
   "cell_type": "code",
   "execution_count": null,
   "id": "5674804c-3bde-402a-9851-666a14e4e606",
   "metadata": {},
   "outputs": [],
   "source": [
    "from IPython.display import HTML\n",
    "HTML(animation.to_jshtml())"
   ]
  }
 ],
 "metadata": {
  "kernelspec": {
   "display_name": "topomesh",
   "language": "python",
   "name": "topomesh"
  },
  "language_info": {
   "codemirror_mode": {
    "name": "ipython",
    "version": 3
   },
   "file_extension": ".py",
   "mimetype": "text/x-python",
   "name": "python",
   "nbconvert_exporter": "python",
   "pygments_lexer": "ipython3",
   "version": "3.11.9"
  }
 },
 "nbformat": 4,
 "nbformat_minor": 5
}
